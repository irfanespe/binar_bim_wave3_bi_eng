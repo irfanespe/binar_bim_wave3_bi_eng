{
 "cells": [
  {
   "cell_type": "code",
   "execution_count": 2,
   "metadata": {},
   "outputs": [],
   "source": [
    "from google.cloud import bigquery\n",
    "from google.oauth2 import service_account\n",
    "import os"
   ]
  },
  {
   "cell_type": "code",
   "execution_count": 3,
   "metadata": {},
   "outputs": [],
   "source": [
    "# Path to your service account key file\n",
    "# key_path = \"sound-berm-404412-59f487beadb5.json\"\n",
    "key_path = \"C:/Users/irfan/Downloads/binaracademyirfantest-3d4528a2c4ba.json\""
   ]
  },
  {
   "cell_type": "markdown",
   "metadata": {},
   "source": [
    "## 1. Access BQ dengan google client"
   ]
  },
  {
   "cell_type": "code",
   "execution_count": 4,
   "metadata": {},
   "outputs": [],
   "source": [
    "# Set the environment variable to the path of the service account key file\n",
    "os.environ[\"GOOGLE_APPLICATION_CREDENTIALS\"] = key_path"
   ]
  },
  {
   "cell_type": "code",
   "execution_count": 7,
   "metadata": {},
   "outputs": [],
   "source": [
    "# save project id from binar\n",
    "project_id = 'binaracademyirfantest'"
   ]
  },
  {
   "cell_type": "code",
   "execution_count": 9,
   "metadata": {},
   "outputs": [],
   "source": [
    "# Initialize a BigQuery client\n",
    "# mirip engine untuk koneksi ke postgre\n",
    "client = bigquery.Client(project=project_id)"
   ]
  },
  {
   "cell_type": "code",
   "execution_count": 10,
   "metadata": {},
   "outputs": [
    {
     "name": "stderr",
     "output_type": "stream",
     "text": [
      "c:\\Users\\irfan\\AppData\\Local\\Programs\\Python\\Python38\\lib\\site-packages\\google\\cloud\\bigquery\\table.py:1727: UserWarning: BigQuery Storage module not found, fetch data with the REST endpoint instead.\n",
      "  warnings.warn(\n"
     ]
    }
   ],
   "source": [
    "# create query and execute query\n",
    "q = \"\"\"\n",
    "    SELECT *\n",
    "    FROM latihan_binar_wave3.ecommerce_clothing\n",
    "    \"\"\"\n",
    "\n",
    "df = client.query(q).to_dataframe()"
   ]
  },
  {
   "cell_type": "code",
   "execution_count": 11,
   "metadata": {},
   "outputs": [
    {
     "data": {
      "text/html": [
       "<div>\n",
       "<style scoped>\n",
       "    .dataframe tbody tr th:only-of-type {\n",
       "        vertical-align: middle;\n",
       "    }\n",
       "\n",
       "    .dataframe tbody tr th {\n",
       "        vertical-align: top;\n",
       "    }\n",
       "\n",
       "    .dataframe thead th {\n",
       "        text-align: right;\n",
       "    }\n",
       "</style>\n",
       "<table border=\"1\" class=\"dataframe\">\n",
       "  <thead>\n",
       "    <tr style=\"text-align: right;\">\n",
       "      <th></th>\n",
       "      <th>order_id</th>\n",
       "      <th>order_date</th>\n",
       "      <th>sku</th>\n",
       "      <th>color</th>\n",
       "      <th>size</th>\n",
       "      <th>unitPrice</th>\n",
       "      <th>quantity</th>\n",
       "      <th>REVENUE</th>\n",
       "      <th>temp_value</th>\n",
       "    </tr>\n",
       "  </thead>\n",
       "  <tbody>\n",
       "    <tr>\n",
       "      <th>0</th>\n",
       "      <td>110</td>\n",
       "      <td>2022-07-02 00:33:00+00:00</td>\n",
       "      <td>29</td>\n",
       "      <td>920 Navy blue</td>\n",
       "      <td>S</td>\n",
       "      <td>227</td>\n",
       "      <td>1</td>\n",
       "      <td>227</td>\n",
       "      <td>11044744.022916666729920 Navy blueS2271227</td>\n",
       "    </tr>\n",
       "    <tr>\n",
       "      <th>1</th>\n",
       "      <td>9</td>\n",
       "      <td>2022-06-11 22:53:00+00:00</td>\n",
       "      <td>239</td>\n",
       "      <td>Black</td>\n",
       "      <td>a.</td>\n",
       "      <td>258</td>\n",
       "      <td>1</td>\n",
       "      <td>258</td>\n",
       "      <td>944723.9534722222239Blacka. 2581258</td>\n",
       "    </tr>\n",
       "    <tr>\n",
       "      <th>2</th>\n",
       "      <td>18</td>\n",
       "      <td>2022-06-15 13:36:00+00:00</td>\n",
       "      <td>77</td>\n",
       "      <td>B</td>\n",
       "      <td>None</td>\n",
       "      <td>258</td>\n",
       "      <td>1</td>\n",
       "      <td>258</td>\n",
       "      <td>1844727.566666666777B2581258</td>\n",
       "    </tr>\n",
       "    <tr>\n",
       "      <th>3</th>\n",
       "      <td>18</td>\n",
       "      <td>2022-06-15 13:36:00+00:00</td>\n",
       "      <td>77</td>\n",
       "      <td>C</td>\n",
       "      <td>None</td>\n",
       "      <td>258</td>\n",
       "      <td>1</td>\n",
       "      <td>258</td>\n",
       "      <td>1844727.566666666777C2581258</td>\n",
       "    </tr>\n",
       "    <tr>\n",
       "      <th>4</th>\n",
       "      <td>18</td>\n",
       "      <td>2022-06-15 13:36:00+00:00</td>\n",
       "      <td>77</td>\n",
       "      <td>D</td>\n",
       "      <td>None</td>\n",
       "      <td>258</td>\n",
       "      <td>1</td>\n",
       "      <td>258</td>\n",
       "      <td>1844727.566666666777D2581258</td>\n",
       "    </tr>\n",
       "  </tbody>\n",
       "</table>\n",
       "</div>"
      ],
      "text/plain": [
       "   order_id                order_date  sku          color  size  unitPrice  \\\n",
       "0       110 2022-07-02 00:33:00+00:00   29  920 Navy blue     S        227   \n",
       "1         9 2022-06-11 22:53:00+00:00  239          Black   a.         258   \n",
       "2        18 2022-06-15 13:36:00+00:00   77              B  None        258   \n",
       "3        18 2022-06-15 13:36:00+00:00   77              C  None        258   \n",
       "4        18 2022-06-15 13:36:00+00:00   77              D  None        258   \n",
       "\n",
       "   quantity  REVENUE                                  temp_value  \n",
       "0         1      227  11044744.022916666729920 Navy blueS2271227  \n",
       "1         1      258         944723.9534722222239Blacka. 2581258  \n",
       "2         1      258                1844727.566666666777B2581258  \n",
       "3         1      258                1844727.566666666777C2581258  \n",
       "4         1      258                1844727.566666666777D2581258  "
      ]
     },
     "execution_count": 11,
     "metadata": {},
     "output_type": "execute_result"
    }
   ],
   "source": [
    "df.head()"
   ]
  },
  {
   "cell_type": "markdown",
   "metadata": {},
   "source": [
    "## 2. Access BQ dengan pandas GBQ"
   ]
  },
  {
   "cell_type": "code",
   "execution_count": 13,
   "metadata": {},
   "outputs": [],
   "source": [
    "import pandas_gbq as pbq\n",
    "\n",
    "credentials = service_account.Credentials.from_service_account_file(\n",
    "    key_path\n",
    ")\n",
    "\n",
    "project_id = \"binaracademyirfantest\"\n"
   ]
  },
  {
   "cell_type": "code",
   "execution_count": 14,
   "metadata": {},
   "outputs": [
    {
     "name": "stdout",
     "output_type": "stream",
     "text": [
      "Downloading: 100%|\u001b[32m██████████\u001b[0m|\n"
     ]
    }
   ],
   "source": [
    "q = \"\"\"\n",
    "    SELECT *\n",
    "    FROM latihan_binar_wave3.ecommerce_clothing\n",
    "    \"\"\"\n",
    "\n",
    "df = pbq.read_gbq(q, project_id=project_id , credentials=credentials)\n"
   ]
  },
  {
   "cell_type": "code",
   "execution_count": 15,
   "metadata": {},
   "outputs": [
    {
     "data": {
      "text/html": [
       "<div>\n",
       "<style scoped>\n",
       "    .dataframe tbody tr th:only-of-type {\n",
       "        vertical-align: middle;\n",
       "    }\n",
       "\n",
       "    .dataframe tbody tr th {\n",
       "        vertical-align: top;\n",
       "    }\n",
       "\n",
       "    .dataframe thead th {\n",
       "        text-align: right;\n",
       "    }\n",
       "</style>\n",
       "<table border=\"1\" class=\"dataframe\">\n",
       "  <thead>\n",
       "    <tr style=\"text-align: right;\">\n",
       "      <th></th>\n",
       "      <th>order_id</th>\n",
       "      <th>order_date</th>\n",
       "      <th>sku</th>\n",
       "      <th>color</th>\n",
       "      <th>size</th>\n",
       "      <th>unitPrice</th>\n",
       "      <th>quantity</th>\n",
       "      <th>REVENUE</th>\n",
       "      <th>temp_value</th>\n",
       "    </tr>\n",
       "  </thead>\n",
       "  <tbody>\n",
       "    <tr>\n",
       "      <th>0</th>\n",
       "      <td>110</td>\n",
       "      <td>2022-07-02 00:33:00+00:00</td>\n",
       "      <td>29</td>\n",
       "      <td>920 Navy blue</td>\n",
       "      <td>S</td>\n",
       "      <td>227</td>\n",
       "      <td>1</td>\n",
       "      <td>227</td>\n",
       "      <td>11044744.022916666729920 Navy blueS2271227</td>\n",
       "    </tr>\n",
       "    <tr>\n",
       "      <th>1</th>\n",
       "      <td>9</td>\n",
       "      <td>2022-06-11 22:53:00+00:00</td>\n",
       "      <td>239</td>\n",
       "      <td>Black</td>\n",
       "      <td>a.</td>\n",
       "      <td>258</td>\n",
       "      <td>1</td>\n",
       "      <td>258</td>\n",
       "      <td>944723.9534722222239Blacka. 2581258</td>\n",
       "    </tr>\n",
       "    <tr>\n",
       "      <th>2</th>\n",
       "      <td>18</td>\n",
       "      <td>2022-06-15 13:36:00+00:00</td>\n",
       "      <td>77</td>\n",
       "      <td>B</td>\n",
       "      <td>None</td>\n",
       "      <td>258</td>\n",
       "      <td>1</td>\n",
       "      <td>258</td>\n",
       "      <td>1844727.566666666777B2581258</td>\n",
       "    </tr>\n",
       "    <tr>\n",
       "      <th>3</th>\n",
       "      <td>18</td>\n",
       "      <td>2022-06-15 13:36:00+00:00</td>\n",
       "      <td>77</td>\n",
       "      <td>C</td>\n",
       "      <td>None</td>\n",
       "      <td>258</td>\n",
       "      <td>1</td>\n",
       "      <td>258</td>\n",
       "      <td>1844727.566666666777C2581258</td>\n",
       "    </tr>\n",
       "    <tr>\n",
       "      <th>4</th>\n",
       "      <td>18</td>\n",
       "      <td>2022-06-15 13:36:00+00:00</td>\n",
       "      <td>77</td>\n",
       "      <td>D</td>\n",
       "      <td>None</td>\n",
       "      <td>258</td>\n",
       "      <td>1</td>\n",
       "      <td>258</td>\n",
       "      <td>1844727.566666666777D2581258</td>\n",
       "    </tr>\n",
       "  </tbody>\n",
       "</table>\n",
       "</div>"
      ],
      "text/plain": [
       "   order_id                order_date  sku          color  size  unitPrice  \\\n",
       "0       110 2022-07-02 00:33:00+00:00   29  920 Navy blue     S        227   \n",
       "1         9 2022-06-11 22:53:00+00:00  239          Black   a.         258   \n",
       "2        18 2022-06-15 13:36:00+00:00   77              B  None        258   \n",
       "3        18 2022-06-15 13:36:00+00:00   77              C  None        258   \n",
       "4        18 2022-06-15 13:36:00+00:00   77              D  None        258   \n",
       "\n",
       "   quantity  REVENUE                                  temp_value  \n",
       "0         1      227  11044744.022916666729920 Navy blueS2271227  \n",
       "1         1      258         944723.9534722222239Blacka. 2581258  \n",
       "2         1      258                1844727.566666666777B2581258  \n",
       "3         1      258                1844727.566666666777C2581258  \n",
       "4         1      258                1844727.566666666777D2581258  "
      ]
     },
     "execution_count": 15,
     "metadata": {},
     "output_type": "execute_result"
    }
   ],
   "source": [
    "df.head()"
   ]
  },
  {
   "cell_type": "code",
   "execution_count": 19,
   "metadata": {},
   "outputs": [],
   "source": [
    "filt_df = df[df['REVENUE']>300]"
   ]
  },
  {
   "cell_type": "code",
   "execution_count": 20,
   "metadata": {},
   "outputs": [
    {
     "name": "stderr",
     "output_type": "stream",
     "text": [
      "100%|██████████| 1/1 [00:00<?, ?it/s]\n"
     ]
    }
   ],
   "source": [
    "destination_table = 'latihan_binar_wave3.filtered_order'\n",
    "\n",
    "pbq.to_gbq(filt_df, destination_table, project_id=project_id, if_exists='replace', credentials=credentials)"
   ]
  },
  {
   "cell_type": "code",
   "execution_count": null,
   "metadata": {},
   "outputs": [],
   "source": []
  }
 ],
 "metadata": {
  "kernelspec": {
   "display_name": "Python 3",
   "language": "python",
   "name": "python3"
  },
  "language_info": {
   "codemirror_mode": {
    "name": "ipython",
    "version": 3
   },
   "file_extension": ".py",
   "mimetype": "text/x-python",
   "name": "python",
   "nbconvert_exporter": "python",
   "pygments_lexer": "ipython3",
   "version": "3.8.8"
  }
 },
 "nbformat": 4,
 "nbformat_minor": 2
}
